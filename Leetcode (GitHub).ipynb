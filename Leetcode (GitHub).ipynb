{
 "cells": [
  {
   "cell_type": "markdown",
   "id": "67713c19-6ff1-4b4d-8a36-d635f9822413",
   "metadata": {},
   "source": [
    "# <center> Leetcode <center/>"
   ]
  },
  {
   "cell_type": "code",
   "execution_count": 1,
   "id": "1e7e445b-3f9b-4def-8d04-a30196d11214",
   "metadata": {
    "execution": {
     "iopub.execute_input": "2023-05-15T11:09:40.088481Z",
     "iopub.status.busy": "2023-05-15T11:09:40.088481Z",
     "iopub.status.idle": "2023-05-15T11:09:40.345776Z",
     "shell.execute_reply": "2023-05-15T11:09:40.345776Z",
     "shell.execute_reply.started": "2023-05-15T11:09:40.088481Z"
    }
   },
   "outputs": [],
   "source": [
    "import math\n",
    "import collections\n",
    "import re\n",
    "import itertools\n",
    "import numpy as np\n",
    "import random"
   ]
  },
  {
   "cell_type": "markdown",
   "id": "5e98c41a-2a06-455d-abfc-913b12962e7f",
   "metadata": {},
   "source": [
    "# Strings"
   ]
  },
  {
   "cell_type": "markdown",
   "id": "89a8cde2-0ed3-4672-8859-5b36ed933b72",
   "metadata": {},
   "source": [
    "## Longest Common Prefix [14]"
   ]
  },
  {
   "cell_type": "markdown",
   "id": "9844bf1f-b0ea-44eb-9e07-a6b16e1a7cce",
   "metadata": {},
   "source": [
    "> https://leetcode.com/problems/longest-common-prefix\n",
    "\n",
    "Write a function to find the longest common prefix string amongst an array of strings.\n",
    "\n",
    "If there is no common prefix, return an empty string \"\"."
   ]
  },
  {
   "cell_type": "code",
   "execution_count": 2,
   "id": "dc47f20f-1a78-4575-9308-61140463fb2c",
   "metadata": {
    "execution": {
     "iopub.execute_input": "2023-05-15T11:09:40.345776Z",
     "iopub.status.busy": "2023-05-15T11:09:40.345776Z",
     "iopub.status.idle": "2023-05-15T11:09:40.361414Z",
     "shell.execute_reply": "2023-05-15T11:09:40.361414Z",
     "shell.execute_reply.started": "2023-05-15T11:09:40.345776Z"
    },
    "tags": []
   },
   "outputs": [
    {
     "data": {
      "text/plain": [
       "'fl'"
      ]
     },
     "execution_count": 2,
     "metadata": {},
     "output_type": "execute_result"
    }
   ],
   "source": [
    "def longestCommonPrefix(strings):\n",
    "    answer = ''\n",
    "    l = len(strings[0])\n",
    "    n = len(strings)\n",
    "    for j in range(l):\n",
    "        for i in range(n):\n",
    "            if j == len(strings[i]) or strings[i][j] != strings[0][j]:\n",
    "                # print(i, j, strings[i][j])\n",
    "                return answer\n",
    "        answer += strings[0][j]\n",
    "    return answer\n",
    "\n",
    "strings = [\"flower\",\"flow\",\"flight\"]\n",
    "longestCommonPrefix(strings)"
   ]
  },
  {
   "cell_type": "code",
   "execution_count": 3,
   "id": "72195298-bfd3-4e30-adea-48b896a2663d",
   "metadata": {
    "execution": {
     "iopub.execute_input": "2023-05-15T11:09:40.361414Z",
     "iopub.status.busy": "2023-05-15T11:09:40.361414Z",
     "iopub.status.idle": "2023-05-15T11:09:40.377036Z",
     "shell.execute_reply": "2023-05-15T11:09:40.377036Z",
     "shell.execute_reply.started": "2023-05-15T11:09:40.361414Z"
    }
   },
   "outputs": [
    {
     "data": {
      "text/plain": [
       "'a'"
      ]
     },
     "execution_count": 3,
     "metadata": {},
     "output_type": "execute_result"
    }
   ],
   "source": [
    "strings = [\"a\"]\n",
    "longestCommonPrefix(strings)"
   ]
  },
  {
   "cell_type": "code",
   "execution_count": 4,
   "id": "cf92fc5e-b31b-4720-b6fc-fab851cd5372",
   "metadata": {
    "execution": {
     "iopub.execute_input": "2023-05-15T11:09:40.377036Z",
     "iopub.status.busy": "2023-05-15T11:09:40.377036Z",
     "iopub.status.idle": "2023-05-15T11:09:40.392689Z",
     "shell.execute_reply": "2023-05-15T11:09:40.392689Z",
     "shell.execute_reply.started": "2023-05-15T11:09:40.377036Z"
    },
    "tags": []
   },
   "outputs": [
    {
     "data": {
      "text/plain": [
       "''"
      ]
     },
     "execution_count": 4,
     "metadata": {},
     "output_type": "execute_result"
    }
   ],
   "source": [
    "strings = [\"\"]\n",
    "longestCommonPrefix(strings)"
   ]
  },
  {
   "cell_type": "markdown",
   "id": "df57135a-a569-44d6-8837-d179012e3494",
   "metadata": {},
   "source": [
    "## Remove Vowels from a String [1119]"
   ]
  },
  {
   "cell_type": "markdown",
   "id": "ed3f37c9-6fd9-4f6f-896d-66e8eb8b1ddb",
   "metadata": {},
   "source": [
    "> https://leetcode.com/problems/remove-vowels-from-a-string\n",
    "\n",
    "Given a string s, remove the vowels 'a', 'e', 'i', 'o', and 'u' from it, and return the new string.\n",
    "\n",
    " \n",
    "\n",
    "Example 1:\n",
    "\n",
    "Input: s = \"leetcodeisacommunityforcoders\"\n",
    "Output: \"ltcdscmmntyfrcdrs\"\n",
    "\n",
    "Example 2:\n",
    "\n",
    "Input: s = \"aeiou\"\n",
    "Output: \"\"\n",
    "\n",
    " \n",
    "\n",
    "Constraints:\n",
    "\n",
    "    1 <= s.length <= 1000\n",
    "    s consists of only lowercase English letters.\n",
    "\n"
   ]
  },
  {
   "cell_type": "markdown",
   "id": "4c127eeb-bcf5-46d2-a6fd-837babd7c133",
   "metadata": {},
   "source": [
    "***Solution***."
   ]
  },
  {
   "cell_type": "code",
   "execution_count": 5,
   "id": "2eab750b-485e-492b-9738-8002613e1d97",
   "metadata": {
    "execution": {
     "iopub.execute_input": "2023-05-15T11:09:40.392689Z",
     "iopub.status.busy": "2023-05-15T11:09:40.392689Z",
     "iopub.status.idle": "2023-05-15T11:09:40.408285Z",
     "shell.execute_reply": "2023-05-15T11:09:40.408285Z",
     "shell.execute_reply.started": "2023-05-15T11:09:40.392689Z"
    },
    "tags": []
   },
   "outputs": [
    {
     "name": "stdout",
     "output_type": "stream",
     "text": [
      "['l', 't', 'c', 'd', 's', 'c', 'm', 'm', 'n', 't', 'y', 'f', 'r', 'c', 'd', 'r', 's']\n"
     ]
    },
    {
     "data": {
      "text/plain": [
       "'ltcdscmmntyfrcdrs'"
      ]
     },
     "execution_count": 5,
     "metadata": {},
     "output_type": "execute_result"
    }
   ],
   "source": [
    "def removeVowels(string):\n",
    "    string = list(string)\n",
    "    vowels = ['a', 'e', 'i', 'o', 'u']\n",
    "    answer = [x for x in string if x not in vowels]\n",
    "    print(answer)\n",
    "    answer = ''.join(answer)\n",
    "    return answer\n",
    "\n",
    "string = 'leetcodeisacommunityforcoders'\n",
    "removeVowels(string)"
   ]
  },
  {
   "cell_type": "markdown",
   "id": "2a9cf419-071e-4423-a2de-9f0f16a3a172",
   "metadata": {},
   "source": [
    "# Arrays"
   ]
  },
  {
   "cell_type": "markdown",
   "id": "2e76d764-2a48-40af-af34-b7d60edda03e",
   "metadata": {},
   "source": [
    "## Two Sum [1]"
   ]
  },
  {
   "cell_type": "markdown",
   "id": "fdc3adaf-f756-437f-bd21-01724e27816d",
   "metadata": {},
   "source": [
    "> https://leetcode.com/problems/two-sum/\n",
    "\n",
    "Given an array of integers nums and an integer target, return indices of the two numbers such that they add up to target.\n",
    "\n",
    "You may assume that each input would have exactly one solution, and you may not use the same element twice.\n",
    "\n",
    "You can return the answer in any order."
   ]
  },
  {
   "cell_type": "markdown",
   "id": "ca9489f3-f4c3-4615-9499-a10fcd5be724",
   "metadata": {},
   "source": [
    "***Solution***. The following solution is $O(n^2)$."
   ]
  },
  {
   "cell_type": "code",
   "execution_count": 6,
   "id": "c8f2b4c7-f55f-43c5-81f0-569650fbe794",
   "metadata": {
    "execution": {
     "iopub.execute_input": "2023-05-15T11:09:40.408285Z",
     "iopub.status.busy": "2023-05-15T11:09:40.408285Z",
     "iopub.status.idle": "2023-05-15T11:09:40.423910Z",
     "shell.execute_reply": "2023-05-15T11:09:40.423910Z",
     "shell.execute_reply.started": "2023-05-15T11:09:40.408285Z"
    },
    "tags": []
   },
   "outputs": [
    {
     "data": {
      "text/plain": [
       "[0, 1]"
      ]
     },
     "execution_count": 6,
     "metadata": {},
     "output_type": "execute_result"
    }
   ],
   "source": [
    "def two_sums(nums, target):\n",
    "    for i in range(len(nums)):\n",
    "        for j in range(i + 1, len(nums)):\n",
    "            if nums[i] + nums[j] == target:\n",
    "                answer = [i, j]\n",
    "                return answer\n",
    "\n",
    "\n",
    "nums = [2, 7, 11, 15]\n",
    "target = 9\n",
    "two_sums(nums, target)"
   ]
  },
  {
   "cell_type": "markdown",
   "id": "ffd322cd-e6d4-482b-81a0-89bb06569c61",
   "metadata": {},
   "source": [
    "A faster solution:"
   ]
  },
  {
   "cell_type": "code",
   "execution_count": 7,
   "id": "8df7eb65-74b0-4dba-902e-719717a7e987",
   "metadata": {
    "execution": {
     "iopub.execute_input": "2023-05-15T11:09:40.423910Z",
     "iopub.status.busy": "2023-05-15T11:09:40.423910Z",
     "iopub.status.idle": "2023-05-15T11:09:40.439563Z",
     "shell.execute_reply": "2023-05-15T11:09:40.439563Z",
     "shell.execute_reply.started": "2023-05-15T11:09:40.423910Z"
    },
    "tags": []
   },
   "outputs": [
    {
     "data": {
      "text/plain": [
       "[1, 0]"
      ]
     },
     "execution_count": 7,
     "metadata": {},
     "output_type": "execute_result"
    }
   ],
   "source": [
    "def two_sums(integers, target):\n",
    "    element2index = {}\n",
    "    for i, element in enumerate(integers):\n",
    "        difference = target - element\n",
    "        if difference in element2index:\n",
    "            return [i, element2index[difference]]\n",
    "        element2index[element] = i\n",
    "\n",
    "nums = [2, 7, 11, 15]\n",
    "target = 9\n",
    "two_sums(nums, target)"
   ]
  },
  {
   "cell_type": "code",
   "execution_count": 8,
   "id": "d675806a-447a-43af-97f3-3685f7cb041e",
   "metadata": {
    "execution": {
     "iopub.execute_input": "2023-05-15T11:09:40.439563Z",
     "iopub.status.busy": "2023-05-15T11:09:40.439563Z",
     "iopub.status.idle": "2023-05-15T11:09:40.455589Z",
     "shell.execute_reply": "2023-05-15T11:09:40.455589Z",
     "shell.execute_reply.started": "2023-05-15T11:09:40.439563Z"
    },
    "tags": []
   },
   "outputs": [
    {
     "data": {
      "text/plain": [
       "[1, 0]"
      ]
     },
     "execution_count": 8,
     "metadata": {},
     "output_type": "execute_result"
    }
   ],
   "source": [
    "nums = [3, 3]\n",
    "target = 6\n",
    "two_sums(nums, target)"
   ]
  },
  {
   "cell_type": "code",
   "execution_count": 9,
   "id": "e2163e20-4497-4234-8c9a-b53f8a58d7c6",
   "metadata": {
    "execution": {
     "iopub.execute_input": "2023-05-15T11:09:40.455589Z",
     "iopub.status.busy": "2023-05-15T11:09:40.455589Z",
     "iopub.status.idle": "2023-05-15T11:09:40.471252Z",
     "shell.execute_reply": "2023-05-15T11:09:40.471252Z",
     "shell.execute_reply.started": "2023-05-15T11:09:40.455589Z"
    },
    "tags": []
   },
   "outputs": [
    {
     "data": {
      "text/plain": [
       "[2, 1]"
      ]
     },
     "execution_count": 9,
     "metadata": {},
     "output_type": "execute_result"
    }
   ],
   "source": [
    "nums = [3, 2, 4]\n",
    "target = 6\n",
    "two_sums(nums, target)"
   ]
  },
  {
   "cell_type": "markdown",
   "id": "77641677-65f0-40ea-ae01-d982d885809c",
   "metadata": {},
   "source": [
    "## Max Consecutive Ones [485]"
   ]
  },
  {
   "cell_type": "markdown",
   "id": "ed679436-04cf-4a86-966b-9364e1513d04",
   "metadata": {},
   "source": [
    "> https://leetcode.com/problems/max-consecutive-ones\n",
    "\n",
    "Given a binary array nums, return the maximum number of consecutive 1's in the array.\n",
    "\n",
    "Example 1:\n",
    "\n",
    "Input: nums = [1,1,0,1,1,1]\n",
    "Output: 3\n",
    "Explanation: The first two digits or the last three digits are consecutive 1s. The maximum number of consecutive 1s is 3.\n",
    "\n",
    "Example 2:\n",
    "\n",
    "Input: nums = [1,0,1,1,0,1]\n",
    "Output: 2\n",
    "\n",
    " \n",
    "\n",
    "Constraints:\n",
    "\n",
    "    1 <= nums.length <= 105\n",
    "    nums[i] is either 0 or 1.\n",
    "\n"
   ]
  },
  {
   "cell_type": "markdown",
   "id": "5faa39e6-9984-4dbb-9cc1-1cf6fcd9fa80",
   "metadata": {},
   "source": [
    "***Solution***. "
   ]
  },
  {
   "cell_type": "markdown",
   "id": "9f5f8a43-9435-4706-9a57-13d0696459be",
   "metadata": {},
   "source": [
    "- One loop\n",
    "- current_1s variable to count the number of consecutive 1s in the current process\n",
    "- max_1s to count the max number of consecutive 1s"
   ]
  },
  {
   "cell_type": "code",
   "execution_count": 10,
   "id": "9eee28d8-c05c-457c-ad7d-25fc90ba39f5",
   "metadata": {
    "execution": {
     "iopub.execute_input": "2023-05-15T11:09:40.471252Z",
     "iopub.status.busy": "2023-05-15T11:09:40.471252Z",
     "iopub.status.idle": "2023-05-15T11:09:40.486850Z",
     "shell.execute_reply": "2023-05-15T11:09:40.486850Z",
     "shell.execute_reply.started": "2023-05-15T11:09:40.471252Z"
    },
    "tags": []
   },
   "outputs": [
    {
     "data": {
      "text/plain": [
       "3"
      ]
     },
     "execution_count": 10,
     "metadata": {},
     "output_type": "execute_result"
    }
   ],
   "source": [
    "def findMaxConsecutiveOnes(nums):\n",
    "    current_1s = 0\n",
    "    max_1s = 0\n",
    "    for i in range(len(nums)):\n",
    "        if nums[i] == 0:\n",
    "            current_1s = 0\n",
    "        if nums[i] == 1:\n",
    "            current_1s += 1\n",
    "        max_1s = max(max_1s, current_1s)\n",
    "    return max_1s\n",
    "\n",
    "nums = [1, 1, 0, 1, 1, 1]\n",
    "findMaxConsecutiveOnes(nums)"
   ]
  },
  {
   "cell_type": "markdown",
   "id": "27cdf09e-e258-45c4-b996-0e5a47a02a84",
   "metadata": {},
   "source": [
    "# Two-pointer technique"
   ]
  },
  {
   "cell_type": "markdown",
   "id": "6866436d-f05c-40af-b86b-e762d8dd420a",
   "metadata": {},
   "source": [
    "## Container With Most Water [11]"
   ]
  },
  {
   "cell_type": "markdown",
   "id": "5ca0e64f-fdbc-4d70-9457-9ba26755561e",
   "metadata": {},
   "source": [
    "> https://leetcode.com/problems/container-with-most-water/\n",
    "\n",
    "You are given an integer array height of length n. There are n vertical lines drawn such that the two endpoints of the ith line are (i, 0) and (i, height[i]).\n",
    "\n",
    "Find two lines that together with the x-axis form a container, such that the container contains the most water.\n",
    "\n",
    "Return the maximum amount of water a container can store.\n",
    "\n",
    "Notice that you may not slant the container."
   ]
  },
  {
   "cell_type": "markdown",
   "id": "489f738b-5094-459d-93a1-53b481dc9fbc",
   "metadata": {},
   "source": [
    "***Solution***"
   ]
  },
  {
   "cell_type": "markdown",
   "id": "c54c376f-f22c-42ce-b0e8-bee579b62f92",
   "metadata": {},
   "source": [
    "Naive:"
   ]
  },
  {
   "cell_type": "code",
   "execution_count": 11,
   "id": "f1a43123-85a2-45c8-a5a7-a158df4b8053",
   "metadata": {
    "execution": {
     "iopub.execute_input": "2023-05-15T11:09:40.486850Z",
     "iopub.status.busy": "2023-05-15T11:09:40.486850Z",
     "iopub.status.idle": "2023-05-15T11:09:40.518104Z",
     "shell.execute_reply": "2023-05-15T11:09:40.518104Z",
     "shell.execute_reply.started": "2023-05-15T11:09:40.486850Z"
    },
    "tags": []
   },
   "outputs": [
    {
     "name": "stdout",
     "output_type": "stream",
     "text": [
      "0 1 1\n",
      "0 2 2\n",
      "0 3 3\n",
      "0 4 4\n",
      "0 5 5\n",
      "0 6 6\n",
      "0 7 7\n",
      "0 8 8\n",
      "1 2 6\n",
      "1 3 4\n",
      "1 4 15\n",
      "1 5 16\n",
      "1 6 40\n",
      "1 7 18\n",
      "1 8 49\n",
      "2 3 2\n",
      "2 4 10\n",
      "2 5 12\n",
      "2 6 24\n",
      "2 7 15\n",
      "2 8 36\n",
      "3 4 2\n",
      "3 5 4\n",
      "3 6 6\n",
      "3 7 8\n",
      "3 8 10\n",
      "4 5 4\n",
      "4 6 10\n",
      "4 7 9\n",
      "4 8 20\n",
      "5 6 4\n",
      "5 7 6\n",
      "5 8 12\n",
      "6 7 3\n",
      "6 8 14\n",
      "7 8 3\n"
     ]
    },
    {
     "data": {
      "text/plain": [
       "49"
      ]
     },
     "execution_count": 11,
     "metadata": {},
     "output_type": "execute_result"
    }
   ],
   "source": [
    "def max_area(height):\n",
    "    if len(height) <= 1:\n",
    "        return 0\n",
    "    areas = []\n",
    "    for i in range(len(height)):\n",
    "        for j in range(i + 1, len(height)):\n",
    "            area = min(height[i], height[j]) * (j - i)\n",
    "            print(i, j, area)\n",
    "            areas.append(area)\n",
    "    answer = max(areas)\n",
    "    return answer\n",
    "\n",
    "\n",
    "height = [1, 8, 6, 2, 5, 4, 8, 3, 7]\n",
    "max_area(height)"
   ]
  },
  {
   "cell_type": "markdown",
   "id": "a142d8ba-1399-4492-9f22-cf75a538c005",
   "metadata": {},
   "source": [
    "Efficient:"
   ]
  },
  {
   "cell_type": "code",
   "execution_count": 12,
   "id": "0d43c72a-1f33-4929-97b1-d177772346b4",
   "metadata": {
    "execution": {
     "iopub.execute_input": "2023-05-15T11:09:40.518104Z",
     "iopub.status.busy": "2023-05-15T11:09:40.518104Z",
     "iopub.status.idle": "2023-05-15T11:09:40.533723Z",
     "shell.execute_reply": "2023-05-15T11:09:40.533723Z",
     "shell.execute_reply.started": "2023-05-15T11:09:40.518104Z"
    },
    "tags": []
   },
   "outputs": [
    {
     "data": {
      "text/plain": [
       "17"
      ]
     },
     "execution_count": 12,
     "metadata": {},
     "output_type": "execute_result"
    }
   ],
   "source": [
    "def max_area(height):\n",
    "    if len(height) <= 1:\n",
    "        return 0\n",
    "    areas = []\n",
    "    i_left = 0\n",
    "    i_right = len(height) - 1\n",
    "    while i_left <= i_right:\n",
    "        # print(i_left, i_right, height[i_left], height[i_right])\n",
    "        area = min(height[i_left], height[i_right]) * (i_right - i_left)\n",
    "        areas.append(area)\n",
    "        if height[i_left] <= height[i_right]:\n",
    "            i_left += 1\n",
    "        elif height[i_left] > height[i_right]:\n",
    "            i_right -= 1\n",
    "    answer = max(areas)\n",
    "    return answer\n",
    "\n",
    "height = [2,3,4,5,18,17,6]\n",
    "max_area(height)"
   ]
  },
  {
   "cell_type": "code",
   "execution_count": 13,
   "id": "3b1183cf-5821-418c-a5af-7bd34b5b8110",
   "metadata": {
    "execution": {
     "iopub.execute_input": "2023-05-15T11:09:40.533723Z",
     "iopub.status.busy": "2023-05-15T11:09:40.533723Z",
     "iopub.status.idle": "2023-05-15T11:09:40.549714Z",
     "shell.execute_reply": "2023-05-15T11:09:40.549714Z",
     "shell.execute_reply.started": "2023-05-15T11:09:40.533723Z"
    },
    "tags": []
   },
   "outputs": [
    {
     "data": {
      "text/plain": [
       "49"
      ]
     },
     "execution_count": 13,
     "metadata": {},
     "output_type": "execute_result"
    }
   ],
   "source": [
    "height = [1,8,6,2,5,4,8,3,7]\n",
    "max_area(height)"
   ]
  },
  {
   "cell_type": "code",
   "execution_count": 14,
   "id": "5836e8cc-5cb4-4bff-8dc7-cd48d237eaf5",
   "metadata": {
    "execution": {
     "iopub.execute_input": "2023-05-15T11:09:40.549714Z",
     "iopub.status.busy": "2023-05-15T11:09:40.549714Z",
     "iopub.status.idle": "2023-05-15T11:09:40.565529Z",
     "shell.execute_reply": "2023-05-15T11:09:40.565529Z",
     "shell.execute_reply.started": "2023-05-15T11:09:40.549714Z"
    },
    "tags": []
   },
   "outputs": [
    {
     "data": {
      "text/plain": [
       "1"
      ]
     },
     "execution_count": 14,
     "metadata": {},
     "output_type": "execute_result"
    }
   ],
   "source": [
    "height = [1,1]\n",
    "max_area(height)"
   ]
  },
  {
   "cell_type": "markdown",
   "id": "67c4626f-b137-4241-8cfd-7d04af872c11",
   "metadata": {},
   "source": [
    "## Two Sum II - Input Array Is Sorted [167]"
   ]
  },
  {
   "cell_type": "markdown",
   "id": "7c4d7399-6ab9-411b-a4b9-47f1ecb1f0ee",
   "metadata": {},
   "source": [
    "> https://leetcode.com/problems/two-sum-ii-input-array-is-sorted/\n",
    "\n",
    "Given a 1-indexed array of integers numbers that is already sorted in non-decreasing order, find two numbers such that they add up to a specific target number. Let these two numbers be numbers[index1] and numbers[index2] where 1 <= index1 < index2 <= numbers.length.\n",
    "\n",
    "Return the indices of the two numbers, index1 and index2, added by one as an integer array [index1, index2] of length 2.\n",
    "\n",
    "The tests are generated such that there is exactly one solution. You may not use the same element twice.\n",
    "\n",
    "Your solution must use only constant extra space."
   ]
  },
  {
   "cell_type": "markdown",
   "id": "c3eb4321-de03-4531-9c70-175a90c37c93",
   "metadata": {},
   "source": [
    "***Solution***"
   ]
  },
  {
   "cell_type": "markdown",
   "id": "ba0dc03d-b0b2-4a20-aa66-e6fd697ebbe7",
   "metadata": {},
   "source": [
    "Using a dictionary [$O(n logn)$]:"
   ]
  },
  {
   "cell_type": "code",
   "execution_count": 15,
   "id": "3d840565-5ae1-48c1-89b3-3cc862de8bdc",
   "metadata": {
    "execution": {
     "iopub.execute_input": "2023-05-15T11:09:40.565529Z",
     "iopub.status.busy": "2023-05-15T11:09:40.565529Z",
     "iopub.status.idle": "2023-05-15T11:09:40.581173Z",
     "shell.execute_reply": "2023-05-15T11:09:40.581173Z",
     "shell.execute_reply.started": "2023-05-15T11:09:40.565529Z"
    },
    "tags": []
   },
   "outputs": [
    {
     "data": {
      "text/plain": [
       "[2, 1]"
      ]
     },
     "execution_count": 15,
     "metadata": {},
     "output_type": "execute_result"
    }
   ],
   "source": [
    "def twoSum(integers, target):\n",
    "    element2index = {}\n",
    "    for i, element in enumerate(integers):\n",
    "        difference = target - element\n",
    "        if difference in element2index:\n",
    "            return [i+1, element2index[difference]+1]\n",
    "        element2index[element] = i\n",
    "            \n",
    "integers = [2, 7, 11, 15]\n",
    "target = 9\n",
    "twoSum(integers, target)"
   ]
  },
  {
   "cell_type": "markdown",
   "id": "af378db7-0f54-4654-9d02-c224309edb0a",
   "metadata": {},
   "source": [
    "Using the two-pointer technique:"
   ]
  },
  {
   "cell_type": "code",
   "execution_count": 16,
   "id": "241b28c5-95ee-4eb2-bf3c-1035b16a6ab6",
   "metadata": {
    "execution": {
     "iopub.execute_input": "2023-05-15T11:09:40.581173Z",
     "iopub.status.busy": "2023-05-15T11:09:40.581173Z",
     "iopub.status.idle": "2023-05-15T11:09:40.597133Z",
     "shell.execute_reply": "2023-05-15T11:09:40.597133Z",
     "shell.execute_reply.started": "2023-05-15T11:09:40.581173Z"
    },
    "tags": []
   },
   "outputs": [
    {
     "name": "stdout",
     "output_type": "stream",
     "text": [
      "0 3 17\n",
      "0 2 13\n",
      "0 1 9\n"
     ]
    },
    {
     "data": {
      "text/plain": [
       "[1, 2]"
      ]
     },
     "execution_count": 16,
     "metadata": {},
     "output_type": "execute_result"
    }
   ],
   "source": [
    "def twoSum(integers, target):\n",
    "    i_left = 0\n",
    "    i_right = len(integers) - 1\n",
    "    while i_left <= i_right:\n",
    "        two_sum = integers[i_left] + integers[i_right]\n",
    "        print(i_left, i_right, two_sum)\n",
    "        if two_sum == target:\n",
    "            answer = [i_left + 1, i_right + 1]\n",
    "            return answer\n",
    "        elif two_sum > target:\n",
    "            i_right -= 1\n",
    "        elif two_sum < target:\n",
    "            i_left += 1\n",
    "            \n",
    "integers = [2, 7, 11, 15]\n",
    "target = 9\n",
    "twoSum(integers, target)"
   ]
  },
  {
   "cell_type": "code",
   "execution_count": 17,
   "id": "699076a9-f02b-4182-b8ba-bc385ec8fe37",
   "metadata": {
    "execution": {
     "iopub.execute_input": "2023-05-15T11:09:40.597133Z",
     "iopub.status.busy": "2023-05-15T11:09:40.597133Z",
     "iopub.status.idle": "2023-05-15T11:09:40.612939Z",
     "shell.execute_reply": "2023-05-15T11:09:40.612939Z",
     "shell.execute_reply.started": "2023-05-15T11:09:40.597133Z"
    },
    "tags": []
   },
   "outputs": [
    {
     "name": "stdout",
     "output_type": "stream",
     "text": [
      "0 2 6\n"
     ]
    },
    {
     "data": {
      "text/plain": [
       "[1, 3]"
      ]
     },
     "execution_count": 17,
     "metadata": {},
     "output_type": "execute_result"
    }
   ],
   "source": [
    "integers = [2, 3, 4]\n",
    "target = 6\n",
    "twoSum(integers, target)"
   ]
  },
  {
   "cell_type": "code",
   "execution_count": 18,
   "id": "b126aa75-375b-4d03-84ca-6713e9bb52a1",
   "metadata": {
    "execution": {
     "iopub.execute_input": "2023-05-15T11:09:40.612939Z",
     "iopub.status.busy": "2023-05-15T11:09:40.612939Z",
     "iopub.status.idle": "2023-05-15T11:09:40.628590Z",
     "shell.execute_reply": "2023-05-15T11:09:40.628590Z",
     "shell.execute_reply.started": "2023-05-15T11:09:40.612939Z"
    },
    "tags": []
   },
   "outputs": [
    {
     "name": "stdout",
     "output_type": "stream",
     "text": [
      "0 1 -1\n"
     ]
    },
    {
     "data": {
      "text/plain": [
       "[1, 2]"
      ]
     },
     "execution_count": 18,
     "metadata": {},
     "output_type": "execute_result"
    }
   ],
   "source": [
    "integers = [-1, 0]\n",
    "target = -1\n",
    "twoSum(integers, target)"
   ]
  },
  {
   "cell_type": "markdown",
   "id": "cfb0c24c-1fc6-4971-ab30-a180d1cc4b44",
   "metadata": {},
   "source": [
    "## 3Sum [15]"
   ]
  },
  {
   "cell_type": "markdown",
   "id": "3307fd4b-4faa-447b-b410-c89137b96e53",
   "metadata": {},
   "source": [
    "> https://leetcode.com/problems/3sum/\n",
    "\n",
    "Given an integer array nums, return all the triplets [nums[i], nums[j], nums[k]] such that i != j, i != k, and j != k, and nums[i] + nums[j] + nums[k] == 0.\n",
    "\n",
    "Notice that the solution set must not contain duplicate triplets."
   ]
  },
  {
   "cell_type": "markdown",
   "id": "3a732bae-877a-4a99-a353-7fbc4b4752b9",
   "metadata": {},
   "source": [
    "***Solution***."
   ]
  },
  {
   "cell_type": "markdown",
   "id": "2999ff62-56db-4e7f-98dc-a85f01e0f19a",
   "metadata": {},
   "source": [
    "Naive solution using a triple loop:"
   ]
  },
  {
   "cell_type": "code",
   "execution_count": 19,
   "id": "d333a2d4-9f47-4be5-8fb9-943408756e67",
   "metadata": {
    "execution": {
     "iopub.execute_input": "2023-05-15T11:09:40.628590Z",
     "iopub.status.busy": "2023-05-15T11:09:40.628590Z",
     "iopub.status.idle": "2023-05-15T11:09:40.644645Z",
     "shell.execute_reply": "2023-05-15T11:09:40.644645Z",
     "shell.execute_reply.started": "2023-05-15T11:09:40.628590Z"
    },
    "tags": []
   },
   "outputs": [
    {
     "name": "stdout",
     "output_type": "stream",
     "text": [
      "[-1, 0, 1]\n",
      "[-1, 0, 1]\n",
      "[-1, -1, 2]\n",
      "[-1, -1, 2]\n",
      "[-1, 0, 1]\n",
      "[-1, 0, 1]\n",
      "[-1, 0, 1]\n",
      "[-1, 0, 1]\n",
      "[-1, 0, 1]\n",
      "[-1, 0, 1]\n",
      "[-1, 0, 1]\n",
      "[-1, 0, 1]\n",
      "[-1, -1, 2]\n",
      "[-1, -1, 2]\n",
      "[-1, -1, 2]\n",
      "[-1, 0, 1]\n",
      "[-1, 0, 1]\n",
      "[-1, -1, 2]\n"
     ]
    },
    {
     "data": {
      "text/plain": [
       "[[-1, 0, 1], [-1, -1, 2]]"
      ]
     },
     "execution_count": 19,
     "metadata": {},
     "output_type": "execute_result"
    }
   ],
   "source": [
    "def threeSum(integers):\n",
    "    n = len(integers)\n",
    "    answer = []\n",
    "    for i in range(n):\n",
    "        for j in range(n):\n",
    "            for k in range(n):\n",
    "                if i != j and i != k and j != k:\n",
    "                    if integers[i] + integers[j] + integers[k] == 0:\n",
    "                        answer_one = sorted([integers[i], integers[j], integers[k]])\n",
    "                        print(answer_one)\n",
    "                        if answer_one not in answer:\n",
    "                            answer.append(answer_one)\n",
    "                        # answer.append()\n",
    "    return answer\n",
    "\n",
    "integers = [-1,0,1,2,-1,-4]\n",
    "threeSum(integers)"
   ]
  },
  {
   "cell_type": "markdown",
   "id": "b46dea7b-959f-4388-aedf-4a3d9660356c",
   "metadata": {},
   "source": [
    "More optimised solution using a dictionary and a double loop:"
   ]
  },
  {
   "cell_type": "code",
   "execution_count": 20,
   "id": "2f8b87cc-522f-44b1-8118-2d189e894207",
   "metadata": {
    "execution": {
     "iopub.execute_input": "2023-05-15T11:09:40.644645Z",
     "iopub.status.busy": "2023-05-15T11:09:40.644645Z",
     "iopub.status.idle": "2023-05-15T11:09:40.660308Z",
     "shell.execute_reply": "2023-05-15T11:09:40.660308Z",
     "shell.execute_reply.started": "2023-05-15T11:09:40.644645Z"
    },
    "tags": []
   },
   "outputs": [
    {
     "data": {
      "text/plain": [
       "[[-1, -1, 2], [-1, 0, 1]]"
      ]
     },
     "execution_count": 20,
     "metadata": {},
     "output_type": "execute_result"
    }
   ],
   "source": [
    "def threeSum(integers):\n",
    "    integers = sorted(integers)\n",
    "    n = len(integers)\n",
    "    answer = []\n",
    "    x2true = {}\n",
    "    # print(integers)\n",
    "    for i, element in enumerate(integers):\n",
    "        if element not in x2true:\n",
    "            x2true[element] = i\n",
    "    # print(x2true)\n",
    "    for i in range(n):\n",
    "        for j in range(i+1, n):\n",
    "            # print(i, j)\n",
    "            two_sum = -(integers[i] + integers[j])\n",
    "            if two_sum in x2true and i != x2true[two_sum] and j != x2true[two_sum]:\n",
    "                answer_one = sorted([integers[i], integers[j], two_sum])\n",
    "                if answer_one not in answer:\n",
    "                    answer.append(answer_one)\n",
    "                # print(answer_one)\n",
    "    return answer\n",
    "\n",
    "integers = [-1,0,1,2,-1,-4]\n",
    "threeSum(integers)"
   ]
  },
  {
   "cell_type": "markdown",
   "id": "0c4037c9-7f3b-47f7-b48b-0cf4df757c17",
   "metadata": {},
   "source": [
    "Even more optimised solution using 2PT:"
   ]
  },
  {
   "cell_type": "code",
   "execution_count": 21,
   "id": "ea540902-6f1b-425a-b40f-d2a4de083da1",
   "metadata": {
    "execution": {
     "iopub.execute_input": "2023-05-15T11:09:40.660308Z",
     "iopub.status.busy": "2023-05-15T11:09:40.660308Z",
     "iopub.status.idle": "2023-05-15T11:09:40.675907Z",
     "shell.execute_reply": "2023-05-15T11:09:40.675907Z",
     "shell.execute_reply.started": "2023-05-15T11:09:40.660308Z"
    },
    "tags": []
   },
   "outputs": [
    {
     "data": {
      "text/plain": [
       "[[-2, 0, 2], [-2, 1, 1]]"
      ]
     },
     "execution_count": 21,
     "metadata": {},
     "output_type": "execute_result"
    }
   ],
   "source": [
    "def threeSum(integers):\n",
    "    integers.sort()\n",
    "    answer = []\n",
    "    for index in range(len(integers)):\n",
    "        if index > 0 and integers[index] == integers[index - 1]:\n",
    "            continue\n",
    "        i_left = index + 1\n",
    "        i_right = len(integers) - 1\n",
    "        while i_left < i_right:\n",
    "            three_sum = integers[index] + integers[i_left] + integers[i_right]\n",
    "            if three_sum > 0:\n",
    "                i_right -= 1\n",
    "            elif three_sum < 0:\n",
    "                i_left += 1\n",
    "            else:\n",
    "                answer.append([integers[index], integers[i_left], integers[i_right]])\n",
    "                i_left += 1\n",
    "                while integers[i_left] == integers[i_left - 1] and i_left < i_right:\n",
    "                    i_left += 1\n",
    "    return answer\n",
    "\n",
    "\n",
    "integers = [-2, 0, 1, 1, 2]\n",
    "threeSum(integers)"
   ]
  },
  {
   "cell_type": "code",
   "execution_count": 22,
   "id": "a15a4730-ba56-4a0c-8ca1-281aa2fb8f27",
   "metadata": {
    "execution": {
     "iopub.execute_input": "2023-05-15T11:09:40.675907Z",
     "iopub.status.busy": "2023-05-15T11:09:40.675907Z",
     "iopub.status.idle": "2023-05-15T11:09:40.691533Z",
     "shell.execute_reply": "2023-05-15T11:09:40.691533Z",
     "shell.execute_reply.started": "2023-05-15T11:09:40.675907Z"
    },
    "tags": []
   },
   "outputs": [
    {
     "data": {
      "text/plain": [
       "[[-2, 0, 2], [-2, 1, 1]]"
      ]
     },
     "execution_count": 22,
     "metadata": {},
     "output_type": "execute_result"
    }
   ],
   "source": [
    "integers = [-2, 0, 1, 1, 2]\n",
    "threeSum(integers)"
   ]
  },
  {
   "cell_type": "code",
   "execution_count": 23,
   "id": "ac7f5117-0442-40a0-a5d6-c6e0b16224f1",
   "metadata": {
    "execution": {
     "iopub.execute_input": "2023-05-15T11:09:40.691533Z",
     "iopub.status.busy": "2023-05-15T11:09:40.691533Z",
     "iopub.status.idle": "2023-05-15T11:09:40.707154Z",
     "shell.execute_reply": "2023-05-15T11:09:40.707154Z",
     "shell.execute_reply.started": "2023-05-15T11:09:40.691533Z"
    },
    "tags": []
   },
   "outputs": [
    {
     "data": {
      "text/plain": [
       "[[0, 0, 0]]"
      ]
     },
     "execution_count": 23,
     "metadata": {},
     "output_type": "execute_result"
    }
   ],
   "source": [
    "integers = [0, 0, 0]\n",
    "threeSum(integers)"
   ]
  },
  {
   "cell_type": "code",
   "execution_count": 24,
   "id": "2baa02e8-3d25-4d0d-85c3-c62cbe9940d9",
   "metadata": {
    "execution": {
     "iopub.execute_input": "2023-05-15T11:09:40.707154Z",
     "iopub.status.busy": "2023-05-15T11:09:40.707154Z",
     "iopub.status.idle": "2023-05-15T11:09:40.723067Z",
     "shell.execute_reply": "2023-05-15T11:09:40.723067Z",
     "shell.execute_reply.started": "2023-05-15T11:09:40.707154Z"
    },
    "tags": []
   },
   "outputs": [
    {
     "data": {
      "text/plain": [
       "[]"
      ]
     },
     "execution_count": 24,
     "metadata": {},
     "output_type": "execute_result"
    }
   ],
   "source": [
    "integers = [1,2,-2,-1]\n",
    "threeSum(integers)"
   ]
  },
  {
   "cell_type": "markdown",
   "id": "ed7b040c-4a33-48b4-a170-eb852a30f97d",
   "metadata": {
    "execution": {
     "iopub.execute_input": "2023-05-11T13:03:10.228592Z",
     "iopub.status.busy": "2023-05-11T13:03:10.228592Z",
     "iopub.status.idle": "2023-05-11T13:03:10.249713Z",
     "shell.execute_reply": "2023-05-11T13:03:10.248748Z",
     "shell.execute_reply.started": "2023-05-11T13:03:10.228592Z"
    },
    "tags": []
   },
   "source": [
    "# Sliding window"
   ]
  },
  {
   "cell_type": "markdown",
   "id": "bc2fd078-533b-420e-87c1-c5231f866d5b",
   "metadata": {},
   "source": [
    "## Find the Index of the First Occurrence in a String [28]"
   ]
  },
  {
   "cell_type": "markdown",
   "id": "ef104c7f-159c-4e49-9d60-72f6992cd324",
   "metadata": {},
   "source": [
    "> https://leetcode.com/problems/find-the-index-of-the-first-occurrence-in-a-string/\n",
    "\n",
    "Given two strings needle and haystack, return the index of the first occurrence of needle in haystack, or -1 if needle is not part of haystack."
   ]
  },
  {
   "cell_type": "markdown",
   "id": "2648a6a4-45c4-4c5d-8fa4-e4baed6fde77",
   "metadata": {},
   "source": [
    "***Solution***."
   ]
  },
  {
   "cell_type": "code",
   "execution_count": 25,
   "id": "1951c4f2-3b1a-4d99-9b12-1e2640ffa1a7",
   "metadata": {
    "execution": {
     "iopub.execute_input": "2023-05-15T11:09:40.723067Z",
     "iopub.status.busy": "2023-05-15T11:09:40.723067Z",
     "iopub.status.idle": "2023-05-15T11:09:40.738932Z",
     "shell.execute_reply": "2023-05-15T11:09:40.738932Z",
     "shell.execute_reply.started": "2023-05-15T11:09:40.723067Z"
    },
    "tags": []
   },
   "outputs": [
    {
     "data": {
      "text/plain": [
       "0"
      ]
     },
     "execution_count": 25,
     "metadata": {},
     "output_type": "execute_result"
    }
   ],
   "source": [
    "def strStr(haystack, needle):\n",
    "    answer = haystack.find(needle)\n",
    "    return answer\n",
    "    \n",
    "haystack = 'sadbutsad'\n",
    "needle = 'sad'\n",
    "strStr(haystack, needle)"
   ]
  },
  {
   "cell_type": "code",
   "execution_count": 26,
   "id": "17472c34-717f-46f2-bf52-fc84768e2bfa",
   "metadata": {
    "execution": {
     "iopub.execute_input": "2023-05-15T11:09:40.741999Z",
     "iopub.status.busy": "2023-05-15T11:09:40.738932Z",
     "iopub.status.idle": "2023-05-15T11:09:40.755006Z",
     "shell.execute_reply": "2023-05-15T11:09:40.755006Z",
     "shell.execute_reply.started": "2023-05-15T11:09:40.741999Z"
    },
    "tags": []
   },
   "outputs": [
    {
     "data": {
      "text/plain": [
       "0"
      ]
     },
     "execution_count": 26,
     "metadata": {},
     "output_type": "execute_result"
    }
   ],
   "source": [
    "def strStr(haystack, needle):\n",
    "    for i in range(0, len(haystack)):\n",
    "        if haystack[i:i+len(needle)] == needle:\n",
    "            return i\n",
    "    return -1\n",
    "    \n",
    "haystack = 'sadbutsad'\n",
    "needle = 'sad'\n",
    "strStr(haystack, needle)"
   ]
  },
  {
   "cell_type": "code",
   "execution_count": 27,
   "id": "63d6fd4d-74a6-4f72-8a26-ece83aa53f3d",
   "metadata": {
    "execution": {
     "iopub.execute_input": "2023-05-15T11:09:40.755006Z",
     "iopub.status.busy": "2023-05-15T11:09:40.755006Z",
     "iopub.status.idle": "2023-05-15T11:09:40.770890Z",
     "shell.execute_reply": "2023-05-15T11:09:40.770890Z",
     "shell.execute_reply.started": "2023-05-15T11:09:40.755006Z"
    },
    "tags": []
   },
   "outputs": [
    {
     "data": {
      "text/plain": [
       "2"
      ]
     },
     "execution_count": 27,
     "metadata": {},
     "output_type": "execute_result"
    }
   ],
   "source": [
    "haystack = 'hello'\n",
    "needle = 'll'\n",
    "strStr(haystack, needle)"
   ]
  },
  {
   "cell_type": "markdown",
   "id": "db4cd64f-3816-444a-85b1-f33c0b0f60e8",
   "metadata": {},
   "source": [
    "## Longest Substring Without Repeating Characters [3]"
   ]
  },
  {
   "cell_type": "markdown",
   "id": "f5531d3e-769c-44ae-96f2-375db4f2e315",
   "metadata": {},
   "source": [
    "> https://leetcode.com/problems/longest-substring-without-repeating-characters/\n",
    "\n",
    "Given a string s, find the length of the longest\n",
    "substring\n",
    "without repeating characters."
   ]
  },
  {
   "cell_type": "markdown",
   "id": "f8e989d1-87b9-4407-8971-fc2127a26003",
   "metadata": {},
   "source": [
    "***Solution***:"
   ]
  },
  {
   "cell_type": "code",
   "execution_count": 28,
   "id": "f068396e-ce88-4001-9f09-6e11756e3320",
   "metadata": {
    "execution": {
     "iopub.execute_input": "2023-05-15T11:09:40.770890Z",
     "iopub.status.busy": "2023-05-15T11:09:40.770890Z",
     "iopub.status.idle": "2023-05-15T11:09:40.786670Z",
     "shell.execute_reply": "2023-05-15T11:09:40.786670Z",
     "shell.execute_reply.started": "2023-05-15T11:09:40.770890Z"
    },
    "tags": []
   },
   "outputs": [
    {
     "name": "stdout",
     "output_type": "stream",
     "text": [
      "0 3 pwe\n",
      "1 3 we\n",
      "2 3 e\n",
      "3 3 e\n"
     ]
    },
    {
     "data": {
      "text/plain": [
       "3"
      ]
     },
     "execution_count": 28,
     "metadata": {},
     "output_type": "execute_result"
    }
   ],
   "source": [
    "def lengthOfLongestSubstring(s):\n",
    "    s = list(s)\n",
    "    substrings = []\n",
    "    if len(s) <= 0:\n",
    "        return 0\n",
    "    for i in range(len(s)):\n",
    "        substring = ''\n",
    "        for j in range(i, len(s)):\n",
    "            if s[j] not in substring:\n",
    "                substring += s[j]\n",
    "            else:\n",
    "                break\n",
    "        print(i, j, substring)\n",
    "        substrings.append(substring)\n",
    "    answer = max([len(x) for x in substrings])\n",
    "    return answer\n",
    "    \n",
    "# s = 'pwwkew'\n",
    "s = 'pwee'\n",
    "lengthOfLongestSubstring(s)"
   ]
  },
  {
   "cell_type": "markdown",
   "id": "cd6a668d-8fea-4ec0-b578-6143d120a202",
   "metadata": {
    "tags": []
   },
   "source": [
    "# Matrices"
   ]
  },
  {
   "cell_type": "markdown",
   "id": "413e9527-bdd7-4bfa-89b7-ad6b07e05b19",
   "metadata": {},
   "source": [
    "## Matrix Diagonal Sum [1572]"
   ]
  },
  {
   "cell_type": "markdown",
   "id": "9a4662c9-cb6c-428e-9754-5da6a6318b1b",
   "metadata": {},
   "source": [
    "> https://leetcode.com/problems/matrix-diagonal-sum/\n",
    "\n",
    "Given a square matrix mat, return the sum of the matrix diagonals.\n",
    "\n",
    "Only include the sum of all the elements on the primary diagonal and all the elements on the secondary diagonal that are not part of the primary diagonal.\n",
    "\n",
    " \n",
    "\n",
    "Example 1:\n",
    "\n",
    "Input: mat = [[1,2,3],\n",
    "              [4,5,6],\n",
    "              [7,8,9]]\n",
    "Output: 25\n",
    "Explanation: Diagonals sum: 1 + 5 + 9 + 3 + 7 = 25\n",
    "Notice that element mat[1][1] = 5 is counted only once.\n",
    "\n",
    "Example 2:\n",
    "\n",
    "Input: mat = [[1,1,1,1],\n",
    "              [1,1,1,1],\n",
    "              [1,1,1,1],\n",
    "              [1,1,1,1]]\n",
    "Output: 8\n",
    "\n",
    "Example 3:\n",
    "\n",
    "Input: mat = [[5]]\n",
    "Output: 5\n",
    "\n",
    " \n",
    "\n",
    "Constraints:\n",
    "\n",
    "    n == mat.length == mat[i].length\n",
    "    1 <= n <= 100\n",
    "    1 <= mat[i][j] <= 100\n",
    "\n"
   ]
  },
  {
   "cell_type": "markdown",
   "id": "5c3c7e8b-2c20-4a18-856d-bc0cbdc7d535",
   "metadata": {},
   "source": [
    "***Solution***. "
   ]
  },
  {
   "cell_type": "markdown",
   "id": "6f66ff99-6030-4fae-bb0c-1ff884f61d78",
   "metadata": {},
   "source": [
    "- Calculate both diagonals\n",
    "- If length is even, they don't clash, and you can get them together\n",
    "- If length is odd, they do coincide and you have to delete the middle element from the sum"
   ]
  },
  {
   "cell_type": "code",
   "execution_count": 29,
   "id": "4b5c0cf1-2ba3-4c91-b939-e96163f0af68",
   "metadata": {
    "execution": {
     "iopub.execute_input": "2023-05-15T11:09:40.786670Z",
     "iopub.status.busy": "2023-05-15T11:09:40.786670Z",
     "iopub.status.idle": "2023-05-15T11:09:40.802304Z",
     "shell.execute_reply": "2023-05-15T11:09:40.802304Z",
     "shell.execute_reply.started": "2023-05-15T11:09:40.786670Z"
    },
    "tags": []
   },
   "outputs": [
    {
     "data": {
      "text/plain": [
       "25"
      ]
     },
     "execution_count": 29,
     "metadata": {},
     "output_type": "execute_result"
    }
   ],
   "source": [
    "def diagonalSum(matrix):\n",
    "    n = len(matrix)\n",
    "    answer = 0\n",
    "    for i in range(len(matrix)):\n",
    "        for j in range(len(matrix)):\n",
    "            if i == j or i == n - j- 1:\n",
    "                answer += matrix[i][j]\n",
    "    return answer\n",
    "\n",
    "matrix = [[1,2,3],\n",
    "          [4,5,6],\n",
    "          [7,8,9]]\n",
    "diagonalSum(matrix)"
   ]
  },
  {
   "cell_type": "code",
   "execution_count": 30,
   "id": "22bd53de-a83f-4c01-8c22-23c2451e0132",
   "metadata": {
    "execution": {
     "iopub.execute_input": "2023-05-15T11:09:40.802304Z",
     "iopub.status.busy": "2023-05-15T11:09:40.802304Z",
     "iopub.status.idle": "2023-05-15T11:09:40.817951Z",
     "shell.execute_reply": "2023-05-15T11:09:40.817951Z",
     "shell.execute_reply.started": "2023-05-15T11:09:40.802304Z"
    },
    "tags": []
   },
   "outputs": [
    {
     "data": {
      "text/plain": [
       "8"
      ]
     },
     "execution_count": 30,
     "metadata": {},
     "output_type": "execute_result"
    }
   ],
   "source": [
    "matrix = [[1,1,1,1],\n",
    "              [1,1,1,1],\n",
    "              [1,1,1,1],\n",
    "              [1,1,1,1]]\n",
    "diagonalSum(matrix)"
   ]
  },
  {
   "cell_type": "code",
   "execution_count": 31,
   "id": "1b4f1b1a-7a83-4666-86ab-bb9de70ef635",
   "metadata": {
    "execution": {
     "iopub.execute_input": "2023-05-15T11:09:40.817951Z",
     "iopub.status.busy": "2023-05-15T11:09:40.817951Z",
     "iopub.status.idle": "2023-05-15T11:09:40.833584Z",
     "shell.execute_reply": "2023-05-15T11:09:40.833584Z",
     "shell.execute_reply.started": "2023-05-15T11:09:40.817951Z"
    },
    "tags": []
   },
   "outputs": [
    {
     "data": {
      "text/plain": [
       "5"
      ]
     },
     "execution_count": 31,
     "metadata": {},
     "output_type": "execute_result"
    }
   ],
   "source": [
    "matrix = [[5]]\n",
    "diagonalSum(matrix)"
   ]
  },
  {
   "cell_type": "markdown",
   "id": "3d7590e5-0eda-461d-b59b-8a72e49f7209",
   "metadata": {},
   "source": [
    "## Spiral Matrix [43]"
   ]
  },
  {
   "cell_type": "markdown",
   "id": "87e9497e-884a-49b8-8f03-7cf2dc1b11b6",
   "metadata": {},
   "source": [
    "> https://leetcode.com/problems/spiral-matrix\n",
    "\n",
    "Given an m x n matrix, return all elements of the matrix in spiral order.\n",
    "\n",
    " \n",
    "\n",
    "Example 1:\n",
    "\n",
    "Input: matrix = [[1,2,3],[4,5,6],[7,8,9]]\n",
    "Output: [1,2,3,6,9,8,7,4,5]\n",
    "\n",
    "Example 2:\n",
    "\n",
    "Input: matrix = [[1,2,3,4],[5,6,7,8],[9,10,11,12]]\n",
    "Output: [1,2,3,4,8,12,11,10,9,5,6,7]\n",
    "\n",
    " \n",
    "\n",
    "Constraints:\n",
    "\n",
    "    m == matrix.length\n",
    "    n == matrix[i].length\n",
    "    1 <= m, n <= 10\n",
    "    -100 <= matrix[i][j] <= 100\n",
    "\n"
   ]
  },
  {
   "cell_type": "markdown",
   "id": "b8f79ff1-bcad-4987-ada8-6c1c9f2b3f9a",
   "metadata": {},
   "source": [
    "***Solution***. "
   ]
  },
  {
   "cell_type": "markdown",
   "id": "bb6c0f3f-5605-4dfd-875c-deb898ea0782",
   "metadata": {},
   "source": [
    "- direction variable with four options: right, down, left, up\n",
    "- variable to record what is in the answer\n",
    "- change direction if it would go out of bounds or it reaches an element already in the spiral\n",
    "- while loop, with condition spiral is not equal to full set\n",
    "- two indexes i and j controlling the row and column"
   ]
  },
  {
   "cell_type": "code",
   "execution_count": 32,
   "id": "03b74bf4-43b5-4939-8a31-375af32da47c",
   "metadata": {
    "execution": {
     "iopub.execute_input": "2023-05-15T11:09:40.833584Z",
     "iopub.status.busy": "2023-05-15T11:09:40.833584Z",
     "iopub.status.idle": "2023-05-15T11:09:40.865288Z",
     "shell.execute_reply": "2023-05-15T11:09:40.865288Z",
     "shell.execute_reply.started": "2023-05-15T11:09:40.833584Z"
    },
    "tags": []
   },
   "outputs": [
    {
     "data": {
      "text/plain": [
       "[23, 18, 20, 26, 25, 4, 29, 28, 28, 23, 15, 18, 15, 24, 22, 3, 4, 24, 2, 22]"
      ]
     },
     "execution_count": 32,
     "metadata": {},
     "output_type": "execute_result"
    }
   ],
   "source": [
    "def spiralOrder(matrix):\n",
    "    height = len(matrix)\n",
    "    width = len(matrix[0])\n",
    "    total = height * width\n",
    "    \n",
    "    spiral = []\n",
    "    direction = 'right'\n",
    "    i = 0\n",
    "    j = 0\n",
    "    locations = []\n",
    "    # print(locations)\n",
    "    # while len(spiral) < total:\n",
    "    while len(spiral) < total:\n",
    "        # print(i, j, direction, matrix[i][j], spiral)\n",
    "        spiral.append(matrix[i][j])\n",
    "        locations.append([i, j])\n",
    "        if direction == 'right':\n",
    "            if j+1 == width or [i, j+1] in locations:\n",
    "                direction = 'down'\n",
    "                i += 1\n",
    "            else:\n",
    "                j += 1\n",
    "        elif direction == 'down':\n",
    "            if i+1 == height or [i+1, j] in locations:\n",
    "                direction = 'left'\n",
    "                j -= 1\n",
    "            else:\n",
    "                i += 1\n",
    "        elif direction == 'left':\n",
    "            if j-1 < 0 or [i, j-1] in locations:\n",
    "                direction = 'up'\n",
    "                i -= 1\n",
    "            else:\n",
    "                j -= 1\n",
    "        elif direction == 'up':\n",
    "            if i-1 < 0 or [i-1, j] in locations:\n",
    "                direction = 'right'\n",
    "                j += 1\n",
    "            else:\n",
    "                i -= 1\n",
    "    return spiral\n",
    "        \n",
    "    print(spiral)\n",
    "\n",
    "matrix = [[23,18,20,26,25],\n",
    "          [24,22, 3, 4,4],\n",
    "          [15,22,2,24,29],\n",
    "          [18,15,23,28,28]]\n",
    "spiralOrder(matrix)"
   ]
  },
  {
   "cell_type": "code",
   "execution_count": 33,
   "id": "382e3928-9c8f-449c-8ed3-a0929cf894f0",
   "metadata": {
    "execution": {
     "iopub.execute_input": "2023-05-15T11:09:40.865288Z",
     "iopub.status.busy": "2023-05-15T11:09:40.865288Z",
     "iopub.status.idle": "2023-05-15T11:09:40.881380Z",
     "shell.execute_reply": "2023-05-15T11:09:40.881380Z",
     "shell.execute_reply.started": "2023-05-15T11:09:40.865288Z"
    }
   },
   "outputs": [
    {
     "data": {
      "text/plain": [
       "[1, 2, 3, 6, 9, 8, 7, 4, 5]"
      ]
     },
     "execution_count": 33,
     "metadata": {},
     "output_type": "execute_result"
    }
   ],
   "source": [
    "\n",
    "matrix = [[1, 2, 3],\n",
    "          [4, 5, 6],\n",
    "          [7, 8, 9]]\n",
    "spiralOrder(matrix)"
   ]
  },
  {
   "cell_type": "code",
   "execution_count": 34,
   "id": "14cda50e-a246-4e54-b032-dbe337704a45",
   "metadata": {
    "execution": {
     "iopub.execute_input": "2023-05-15T11:09:40.881380Z",
     "iopub.status.busy": "2023-05-15T11:09:40.881380Z",
     "iopub.status.idle": "2023-05-15T11:09:40.897123Z",
     "shell.execute_reply": "2023-05-15T11:09:40.897123Z",
     "shell.execute_reply.started": "2023-05-15T11:09:40.881380Z"
    },
    "tags": []
   },
   "outputs": [
    {
     "data": {
      "text/plain": [
       "[1, 2, 3, 4, 8, 12, 11, 10, 9, 5, 6, 7]"
      ]
     },
     "execution_count": 34,
     "metadata": {},
     "output_type": "execute_result"
    }
   ],
   "source": [
    "matrix = [[1, 2, 3, 4],\n",
    "          [5, 6, 7, 8],\n",
    "          [9, 10, 11, 12]]\n",
    "spiralOrder(matrix)"
   ]
  },
  {
   "cell_type": "markdown",
   "id": "7e90656f-22dc-40ad-a82e-25454929caf6",
   "metadata": {},
   "source": [
    "## Spiral Matrix II [59]"
   ]
  },
  {
   "cell_type": "markdown",
   "id": "56e3e73a-7784-41b8-8abe-76581420b089",
   "metadata": {},
   "source": [
    "> https://leetcode.com/problems/spiral-matrix-ii/\n",
    "\n",
    "Given a positive integer n, generate an n x n matrix filled with elements from 1 to n2 in spiral order.\n",
    "\n",
    " \n",
    "\n",
    "Example 1:\n",
    "\n",
    "Input: n = 3\n",
    "Output: [[1,2,3],[8,9,4],[7,6,5]]\n",
    "\n",
    "Example 2:\n",
    "\n",
    "Input: n = 1\n",
    "Output: [[1]]\n",
    "\n",
    "\n",
    "\n",
    "Constraints:\n",
    "\n",
    "    1 <= n <= 20\n",
    "\n"
   ]
  },
  {
   "cell_type": "markdown",
   "id": "610b35e6-7fe5-48c0-b765-02ede7119168",
   "metadata": {},
   "source": [
    "***Solution***. "
   ]
  },
  {
   "cell_type": "markdown",
   "id": "b20c6105-3ad0-471b-bdb3-321393bbe8a9",
   "metadata": {},
   "source": [
    "- Direction variable?\n",
    "- Generate each row?\n",
    "- Generate matrix of zero board first. Then traverse it?\n",
    "- Can we use a similar technique as Spiral Matrix? Ie using a direction variable and a locations array?"
   ]
  },
  {
   "cell_type": "code",
   "execution_count": 35,
   "id": "719cd6f3-1756-4d7d-a83f-7a4b440f5c2a",
   "metadata": {
    "execution": {
     "iopub.execute_input": "2023-05-15T11:09:40.897123Z",
     "iopub.status.busy": "2023-05-15T11:09:40.897123Z",
     "iopub.status.idle": "2023-05-15T11:09:40.928891Z",
     "shell.execute_reply": "2023-05-15T11:09:40.928891Z",
     "shell.execute_reply.started": "2023-05-15T11:09:40.897123Z"
    },
    "tags": []
   },
   "outputs": [
    {
     "name": "stdout",
     "output_type": "stream",
     "text": [
      "1\n",
      "2\n",
      "3\n",
      "right 0 2\n",
      "4\n",
      "5\n",
      "6\n",
      "7\n",
      "8\n",
      "9\n",
      "right 1 1\n"
     ]
    },
    {
     "data": {
      "text/plain": [
       "[[1, 2, 3], [8, 9, 4], [7, 6, 5]]"
      ]
     },
     "execution_count": 35,
     "metadata": {},
     "output_type": "execute_result"
    }
   ],
   "source": [
    "def generateMatrix(n):\n",
    "    answer = []\n",
    "    row = [0] * n\n",
    "    for j in range(n):\n",
    "        answer.append([0] * n)\n",
    "    direction = 'right'\n",
    "    locations = []\n",
    "    i = 0\n",
    "    j = 0\n",
    "    for integer in range(1, n*n+1):\n",
    "        print(integer)\n",
    "        answer[i][j] = integer\n",
    "        locations.append([i, j])\n",
    "        if direction == 'right':\n",
    "            if j+1 == n or [i, j+1] in locations:\n",
    "                print(direction, i, j)\n",
    "                direction = 'down'\n",
    "                i += 1\n",
    "            else:\n",
    "                j += 1\n",
    "        elif direction == 'down':\n",
    "            if i+1 == n or [i+1, j] in locations:\n",
    "                direction = 'left'\n",
    "                j -= 1\n",
    "            else:\n",
    "                i += 1\n",
    "        elif direction == 'left':\n",
    "            if j-1 == -1 or [i, j-1] in locations:\n",
    "                direction = 'up'\n",
    "                i -= 1\n",
    "            else:\n",
    "                j -= 1\n",
    "        elif direction == 'up':\n",
    "            if i-1 == -1 or [i-1, j] in locations:\n",
    "                direction = 'right'\n",
    "                j += 1\n",
    "            else:\n",
    "                i -= 1\n",
    "    return answer\n",
    "    \n",
    "n = 3\n",
    "generateMatrix(n)"
   ]
  },
  {
   "cell_type": "markdown",
   "id": "8e87cb74-6e02-4c16-9866-635cee824e5f",
   "metadata": {},
   "source": [
    "## Valid Sudoku [36]"
   ]
  },
  {
   "cell_type": "markdown",
   "id": "ddb4d196-548b-4b22-83a3-93bc4a6a723c",
   "metadata": {},
   "source": [
    "> https://leetcode.com/problems/valid-sudoku\n",
    "\n",
    "Determine if a 9 x 9 Sudoku board is valid. Only the filled cells need to be validated according to the following rules:\n",
    "\n",
    "    Each row must contain the digits 1-9 without repetition.\n",
    "    Each column must contain the digits 1-9 without repetition.\n",
    "    Each of the nine 3 x 3 sub-boxes of the grid must contain the digits 1-9 without repetition.\n",
    "\n",
    "Note:\n",
    "\n",
    "    A Sudoku board (partially filled) could be valid but is not necessarily solvable.\n",
    "    Only the filled cells need to be validated according to the mentioned rules.\n",
    "\n",
    " \n",
    "\n",
    "Example 1:\n",
    "\n",
    "Input: board = \n",
    "[[\"5\",\"3\",\".\",\".\",\"7\",\".\",\".\",\".\",\".\"]\n",
    ",[\"6\",\".\",\".\",\"1\",\"9\",\"5\",\".\",\".\",\".\"]\n",
    ",[\".\",\"9\",\"8\",\".\",\".\",\".\",\".\",\"6\",\".\"]\n",
    ",[\"8\",\".\",\".\",\".\",\"6\",\".\",\".\",\".\",\"3\"]\n",
    ",[\"4\",\".\",\".\",\"8\",\".\",\"3\",\".\",\".\",\"1\"]\n",
    ",[\"7\",\".\",\".\",\".\",\"2\",\".\",\".\",\".\",\"6\"]\n",
    ",[\".\",\"6\",\".\",\".\",\".\",\".\",\"2\",\"8\",\".\"]\n",
    ",[\".\",\".\",\".\",\"4\",\"1\",\"9\",\".\",\".\",\"5\"]\n",
    ",[\".\",\".\",\".\",\".\",\"8\",\".\",\".\",\"7\",\"9\"]]\n",
    "Output: true\n",
    "\n",
    "Example 2:\n",
    "\n",
    "Input: board = \n",
    "[[\"8\",\"3\",\".\",\".\",\"7\",\".\",\".\",\".\",\".\"]\n",
    ",[\"6\",\".\",\".\",\"1\",\"9\",\"5\",\".\",\".\",\".\"]\n",
    ",[\".\",\"9\",\"8\",\".\",\".\",\".\",\".\",\"6\",\".\"]\n",
    ",[\"8\",\".\",\".\",\".\",\"6\",\".\",\".\",\".\",\"3\"]\n",
    ",[\"4\",\".\",\".\",\"8\",\".\",\"3\",\".\",\".\",\"1\"]\n",
    ",[\"7\",\".\",\".\",\".\",\"2\",\".\",\".\",\".\",\"6\"]\n",
    ",[\".\",\"6\",\".\",\".\",\".\",\".\",\"2\",\"8\",\".\"]\n",
    ",[\".\",\".\",\".\",\"4\",\"1\",\"9\",\".\",\".\",\"5\"]\n",
    ",[\".\",\".\",\".\",\".\",\"8\",\".\",\".\",\"7\",\"9\"]]\n",
    "Output: false\n",
    "Explanation: Same as Example 1, except with the 5 in the top left corner being modified to 8. Since there are two 8's in the top left 3x3 sub-box, it is invalid.\n",
    "\n",
    " \n",
    "\n",
    "Constraints:\n",
    "\n",
    "    board.length == 9\n",
    "    board[i].length == 9\n",
    "    board[i][j] is a digit 1-9 or '.'.\n",
    "\n"
   ]
  },
  {
   "cell_type": "markdown",
   "id": "c2dc2b24-5bf9-465e-9792-c717fcb63eb9",
   "metadata": {},
   "source": [
    "***Solution***. "
   ]
  },
  {
   "cell_type": "markdown",
   "id": "5481c791-825a-4c59-8021-86c9396ce072",
   "metadata": {},
   "source": [
    "- 3 boolean variables: for rows, for columns, for each block. all must be valid for overall validity\n",
    "- each row must be valid. valid means no duplicate entries (apart from .)\n",
    "- can use dictionary to check if an entry is already there. can use this for row, column, 3*3\n",
    "- last thing is to return True, but have Return False in three places:"
   ]
  },
  {
   "cell_type": "code",
   "execution_count": 36,
   "id": "ed60a43c-4ed2-4021-82cb-899d524e6758",
   "metadata": {
    "execution": {
     "iopub.execute_input": "2023-05-15T11:09:40.928891Z",
     "iopub.status.busy": "2023-05-15T11:09:40.928891Z",
     "iopub.status.idle": "2023-05-15T11:09:40.960644Z",
     "shell.execute_reply": "2023-05-15T11:09:40.960644Z",
     "shell.execute_reply.started": "2023-05-15T11:09:40.928891Z"
    },
    "tags": []
   },
   "outputs": [
    {
     "name": "stdout",
     "output_type": "stream",
     "text": [
      "['.', '.', '5', '.', '4', '.', '.', '.', '.'] 5\n",
      "['.', '.', '5', '.', '4', '.', '.', '.', '.'] 4\n",
      "['4', '.', '.', '.', '3', '.', '.', '.', '.'] 4\n",
      "['4', '.', '.', '.', '3', '.', '.', '.', '.'] 3\n",
      "['.', '.', '.', '5', '.', '7', '5', '.', '.'] 5\n",
      "['.', '.', '.', '5', '.', '7', '5', '.', '.'] 7\n",
      "['.', '.', '.', '5', '.', '7', '5', '.', '.'] 5\n"
     ]
    },
    {
     "data": {
      "text/plain": [
       "False"
      ]
     },
     "execution_count": 36,
     "metadata": {},
     "output_type": "execute_result"
    }
   ],
   "source": [
    "def isValidSudoku(board):\n",
    "    def flatten_matrix(matrix):\n",
    "        array = []\n",
    "        for i in range(len(matrix)):\n",
    "            for j in range(len(matrix[0])):\n",
    "                array.append(matrix[i][j])\n",
    "        return array\n",
    "\n",
    "    n = len(board)\n",
    "    for i in range(n):\n",
    "        e2t = {}\n",
    "        row = board[i]\n",
    "        for j in range(n):\n",
    "            if row[j] != '.':\n",
    "                if row[j] in e2t:\n",
    "                    return False\n",
    "                else:\n",
    "                    e2t[row[j]] = True\n",
    "    for i in range(n):\n",
    "        e2t = {}\n",
    "        column = [x[i] for x in board]\n",
    "        for j in range(n):\n",
    "            if column[j] != '.':\n",
    "                print(column, column[j])\n",
    "                if column[j] in e2t:\n",
    "                    return False\n",
    "                else:\n",
    "                    e2t[column[j]] = True\n",
    "    three_by_threes = []\n",
    "    for i in [0, 3, 6]:\n",
    "        for j in [0, 3, 6]:\n",
    "            three_by_three = flatten_matrix([x[i:i+3] for x in board][j:j+3])\n",
    "            three_by_threes.append(three_by_three)\n",
    "    for i in range(n):\n",
    "        e2t = {}\n",
    "        flat = three_by_threes[i]\n",
    "        for j in range(j):\n",
    "            if flat[j] != '.':\n",
    "                if flat[j] in e2t:\n",
    "                    return False\n",
    "                else:\n",
    "                    e2t[flat[j]] = True\n",
    "    return True\n",
    "\n",
    "board = [[\".\",\".\",\"4\",\".\",\".\",\".\",\"6\",\"3\",\".\"],\n",
    "         [\".\",\".\",\".\",\".\",\".\",\".\",\".\",\".\",\".\"],\n",
    "         [\"5\",\".\",\".\",\".\",\".\",\".\",\".\",\"9\",\".\"],\n",
    "         [\".\",\".\",\".\",\"5\",\"6\",\".\",\".\",\".\",\".\"],\n",
    "         [\"4\",\".\",\"3\",\".\",\".\",\".\",\".\",\".\",\"1\"],\n",
    "         [\".\",\".\",\".\",\"7\",\".\",\".\",\".\",\".\",\".\"],\n",
    "         [\".\",\".\",\".\",\"5\",\".\",\".\",\".\",\".\",\".\"],\n",
    "         [\".\",\".\",\".\",\".\",\".\",\".\",\".\",\".\",\".\"],\n",
    "         [\".\",\".\",\".\",\".\",\".\",\".\",\".\",\".\",\".\"]]\n",
    "isValidSudoku(board)"
   ]
  },
  {
   "cell_type": "code",
   "execution_count": 37,
   "id": "bf9dd061-ad9d-4f28-8053-34a1050c3e23",
   "metadata": {
    "execution": {
     "iopub.execute_input": "2023-05-15T11:09:40.960644Z",
     "iopub.status.busy": "2023-05-15T11:09:40.960644Z",
     "iopub.status.idle": "2023-05-15T11:09:40.976344Z",
     "shell.execute_reply": "2023-05-15T11:09:40.976344Z",
     "shell.execute_reply.started": "2023-05-15T11:09:40.960644Z"
    },
    "tags": []
   },
   "outputs": [
    {
     "data": {
      "text/plain": [
       "[['5', '3', '.'],\n",
       " ['6', '.', '.'],\n",
       " ['.', '9', '8'],\n",
       " ['8', '.', '.'],\n",
       " ['4', '.', '.'],\n",
       " ['7', '.', '.'],\n",
       " ['.', '6', '.'],\n",
       " ['.', '.', '.'],\n",
       " ['.', '.', '.']]"
      ]
     },
     "execution_count": 37,
     "metadata": {},
     "output_type": "execute_result"
    }
   ],
   "source": [
    "board = [[\"5\",\"3\",\".\",\".\",\"7\",\".\",\".\",\".\",\".\"]\n",
    ",[\"6\",\".\",\".\",\"1\",\"9\",\"5\",\".\",\".\",\".\"]\n",
    ",[\".\",\"9\",\"8\",\".\",\".\",\".\",\".\",\"6\",\".\"]\n",
    ",[\"8\",\".\",\".\",\".\",\"6\",\".\",\".\",\".\",\"3\"]\n",
    ",[\"4\",\".\",\".\",\"8\",\".\",\"3\",\".\",\".\",\"1\"]\n",
    ",[\"7\",\".\",\".\",\".\",\"2\",\".\",\".\",\".\",\"6\"]\n",
    ",[\".\",\"6\",\".\",\".\",\".\",\".\",\"2\",\"8\",\".\"]\n",
    ",[\".\",\".\",\".\",\"4\",\"1\",\"9\",\".\",\".\",\"5\"]\n",
    ",[\".\",\".\",\".\",\".\",\"8\",\".\",\".\",\"7\",\"9\"]]\n",
    "[x[0:3] for x in board]"
   ]
  },
  {
   "cell_type": "code",
   "execution_count": 38,
   "id": "140e419a-2223-45c2-8a8d-3cb0a4aaf5bf",
   "metadata": {
    "execution": {
     "iopub.execute_input": "2023-05-15T11:09:40.976344Z",
     "iopub.status.busy": "2023-05-15T11:09:40.976344Z",
     "iopub.status.idle": "2023-05-15T11:09:40.992368Z",
     "shell.execute_reply": "2023-05-15T11:09:40.992368Z",
     "shell.execute_reply.started": "2023-05-15T11:09:40.976344Z"
    },
    "tags": []
   },
   "outputs": [
    {
     "data": {
      "text/plain": [
       "[1, 2, 3, 4, 5, 6, 7, 8, 9, 10, 11, 12]"
      ]
     },
     "execution_count": 38,
     "metadata": {},
     "output_type": "execute_result"
    }
   ],
   "source": [
    "def flatten_matrix(matrix):\n",
    "    array = []\n",
    "    for i in range(len(matrix)):\n",
    "        for j in range(len(matrix[0])):\n",
    "            array.append(matrix[i][j])\n",
    "    return array\n",
    "\n",
    "matrix = [[1, 2, 3, 4],\n",
    "          [5, 6, 7, 8],\n",
    "          [9, 10, 11, 12]]\n",
    "flatten_matrix(matrix)"
   ]
  },
  {
   "cell_type": "markdown",
   "id": "347a0574-f999-4cbf-ba6f-2b82ab63794b",
   "metadata": {},
   "source": []
  },
  {
   "cell_type": "code",
   "execution_count": null,
   "id": "3927b74e-82b2-4ab3-8fda-bda2cebfa7ab",
   "metadata": {},
   "outputs": [],
   "source": []
  },
  {
   "cell_type": "markdown",
   "id": "dcff989e-15f1-41c6-910e-3f1ab741ecc2",
   "metadata": {},
   "source": [
    "## Check if Every Row and Column Contains All Numbers [2133]"
   ]
  },
  {
   "cell_type": "markdown",
   "id": "ba7558c7-4609-4671-ab4b-293e1d4b6488",
   "metadata": {},
   "source": [
    "> https://leetcode.com/problems/check-if-every-row-and-column-contains-all-numbers/\n",
    "\n",
    "An n x n matrix is valid if every row and every column contains all the integers from 1 to n (inclusive).\n",
    "\n",
    "Given an n x n integer matrix matrix, return true if the matrix is valid. Otherwise, return false.\n",
    "\n",
    "\n",
    "Example 1:\n",
    "\n",
    "Input: matrix = [[1,2,3],[3,1,2],[2,3,1]]\n",
    "Output: true\n",
    "Explanation: In this case, n = 3, and every row and column contains the numbers 1, 2, and 3.\n",
    "Hence, we return true.\n",
    "\n",
    "Example 2:\n",
    "\n",
    "Input: matrix = [[1,1,1],[1,2,3],[1,2,3]]\n",
    "Output: false\n",
    "Explanation: In this case, n = 3, but the first row and the first column do not contain the numbers 2 or 3.\n",
    "Hence, we return false.\n",
    "\n",
    " \n",
    "\n",
    "Constraints:\n",
    "\n",
    "    n == matrix.length == matrix[i].length\n",
    "    1 <= n <= 100\n",
    "    1 <= matrix[i][j] <= n\n",
    "\n"
   ]
  },
  {
   "cell_type": "markdown",
   "id": "fb0a4874-4630-4a38-a00a-94e5880fdecc",
   "metadata": {},
   "source": [
    "***Solution***. "
   ]
  },
  {
   "cell_type": "code",
   "execution_count": 39,
   "id": "bc6e3d91-c1b4-48f6-b47d-7235d7270990",
   "metadata": {
    "execution": {
     "iopub.execute_input": "2023-05-15T11:09:40.992368Z",
     "iopub.status.busy": "2023-05-15T11:09:40.992368Z",
     "iopub.status.idle": "2023-05-15T11:09:41.008470Z",
     "shell.execute_reply": "2023-05-15T11:09:41.008470Z",
     "shell.execute_reply.started": "2023-05-15T11:09:40.992368Z"
    },
    "tags": []
   },
   "outputs": [
    {
     "data": {
      "text/plain": [
       "True"
      ]
     },
     "execution_count": 39,
     "metadata": {},
     "output_type": "execute_result"
    }
   ],
   "source": [
    "def checkValid(matrix):\n",
    "    n = len(matrix)\n",
    "    check = list(range(1, n+1))\n",
    "    for i in range(n):\n",
    "        row = matrix[i]\n",
    "        if sorted(row) != check:\n",
    "            return False\n",
    "    for i in range(n):\n",
    "        column = [x[i] for x in matrix]\n",
    "        if sorted(column) != check:\n",
    "            return False\n",
    "    return True\n",
    "\n",
    "matrix = [[1,2,3],[3,1,2],[2,3,1]]\n",
    "checkValid(matrix)"
   ]
  },
  {
   "cell_type": "code",
   "execution_count": 40,
   "id": "8329f999-d635-4bf1-88e4-e5d90d79fd50",
   "metadata": {
    "execution": {
     "iopub.execute_input": "2023-05-15T11:09:41.008470Z",
     "iopub.status.busy": "2023-05-15T11:09:41.008470Z",
     "iopub.status.idle": "2023-05-15T11:09:41.024104Z",
     "shell.execute_reply": "2023-05-15T11:09:41.024104Z",
     "shell.execute_reply.started": "2023-05-15T11:09:41.008470Z"
    },
    "tags": []
   },
   "outputs": [
    {
     "data": {
      "text/plain": [
       "True"
      ]
     },
     "execution_count": 40,
     "metadata": {},
     "output_type": "execute_result"
    }
   ],
   "source": [
    "matrix = [[1]]\n",
    "checkValid(matrix)"
   ]
  },
  {
   "cell_type": "markdown",
   "id": "177f5562-bfee-4724-853e-1407b7a62fc5",
   "metadata": {},
   "source": [
    "## Sum in a Matrix [2679]"
   ]
  },
  {
   "cell_type": "markdown",
   "id": "d61cac03-20d3-4780-aaa7-f5d89555eddb",
   "metadata": {},
   "source": [
    "> https://leetcode.com/problems/sum-in-a-matrix\n",
    "\n",
    "You are given a 0-indexed 2D integer array nums. Initially, your score is 0. Perform the following operations until the matrix becomes empty:\n",
    "\n",
    "    From each row in the matrix, select the largest number and remove it. In the case of a tie, it does not matter which number is chosen.\n",
    "    Identify the highest number amongst all those removed in step 1. Add that number to your score.\n",
    "\n",
    "Return the final score.\n",
    "\n",
    " \n",
    "\n",
    "Example 1:\n",
    "\n",
    "Input: nums = [[7,2,1],[6,4,2],[6,5,3],[3,2,1]]\n",
    "Output: 15\n",
    "Explanation: In the first operation, we remove 7, 6, 6, and 3. We then add 7 to our score. Next, we remove 2, 4, 5, and 2. We add 5 to our score. Lastly, we remove 1, 2, 3, and 1. We add 3 to our score. Thus, our final score is 7 + 5 + 3 = 15.\n",
    "\n",
    "Example 2:\n",
    "\n",
    "Input: nums = [[1]]\n",
    "Output: 1\n",
    "Explanation: We remove 1 and add it to the answer. We return 1.\n",
    "\n",
    " \n",
    "\n",
    "Constraints:\n",
    "\n",
    "    1 <= nums.length <= 300\n",
    "    1 <= nums[i].length <= 500\n",
    "    0 <= nums[i][j] <= 103\n",
    "\n"
   ]
  },
  {
   "cell_type": "markdown",
   "id": "fe3a149a-fb92-4a37-9b11-738fa7e36f9c",
   "metadata": {},
   "source": [
    "- \n",
    "- \n",
    "- "
   ]
  },
  {
   "cell_type": "markdown",
   "id": "bc9ef11e-fe11-4ea7-a47e-504417033cb8",
   "metadata": {},
   "source": [
    "***Solution***."
   ]
  },
  {
   "cell_type": "code",
   "execution_count": 41,
   "id": "87448b1f-eff0-4b4c-baf3-9c02019116c2",
   "metadata": {
    "execution": {
     "iopub.execute_input": "2023-05-15T11:09:41.024104Z",
     "iopub.status.busy": "2023-05-15T11:09:41.024104Z",
     "iopub.status.idle": "2023-05-15T11:09:41.040075Z",
     "shell.execute_reply": "2023-05-15T11:09:41.040075Z",
     "shell.execute_reply.started": "2023-05-15T11:09:41.024104Z"
    },
    "tags": []
   },
   "outputs": [
    {
     "name": "stdout",
     "output_type": "stream",
     "text": [
      "1\n",
      "1\n",
      "1\n",
      "[[-inf, -inf, -inf], [-inf, -inf, -inf], [-inf, -inf, -inf], [-inf, -inf, -inf]]\n"
     ]
    },
    {
     "data": {
      "text/plain": [
       "15"
      ]
     },
     "execution_count": 41,
     "metadata": {},
     "output_type": "execute_result"
    }
   ],
   "source": [
    "def matrixSum(matrix):\n",
    "    n = len(matrix)\n",
    "    cols = len(matrix[0])\n",
    "    answer = 0\n",
    "    for _ in range(cols):\n",
    "        print(1)\n",
    "        max_all_rows = -math.inf\n",
    "        for i in range(n):\n",
    "            row = matrix[i]\n",
    "            max_in_row = max(row)\n",
    "            max_all_rows = max(max_all_rows, max_in_row)\n",
    "            index_max = row.index(max_in_row)\n",
    "            matrix[i][index_max] = -math.inf\n",
    "        answer += max_all_rows\n",
    "    print(matrix)\n",
    "    return answer\n",
    "    \n",
    "matrix = [[7,2,1],[6,4,2],[6,5,3],[3,2,1]]\n",
    "matrixSum(matrix)  # 15"
   ]
  },
  {
   "cell_type": "code",
   "execution_count": null,
   "id": "6f378c24-a332-49e9-bd9c-ec7b5b5767b7",
   "metadata": {},
   "outputs": [],
   "source": []
  },
  {
   "cell_type": "code",
   "execution_count": null,
   "id": "27872715-92af-4fb9-873e-3028d60f6f53",
   "metadata": {
    "tags": []
   },
   "outputs": [],
   "source": [
    "\n"
   ]
  },
  {
   "cell_type": "markdown",
   "id": "b69ffec2-2821-4997-b009-9e62037df4ff",
   "metadata": {},
   "source": [
    "## Largest Local Values in a Matrix [2373]"
   ]
  },
  {
   "cell_type": "markdown",
   "id": "c91508b0-f753-4c52-8643-bf04be594d4f",
   "metadata": {},
   "source": [
    "> https://leetcode.com/problems/largest-local-values-in-a-matrix/\n",
    "\n",
    "You are given an n x n integer matrix grid.\n",
    "\n",
    "Generate an integer matrix maxLocal of size (n - 2) x (n - 2) such that:\n",
    "\n",
    "    maxLocal[i][j] is equal to the largest value of the 3 x 3 matrix in grid centered around row i + 1 and column j + 1.\n",
    "\n",
    "In other words, we want to find the largest value in every contiguous 3 x 3 matrix in grid.\n",
    "\n",
    "Return the generated matrix.\n",
    "\n",
    " \n",
    "\n",
    "Example 1:\n",
    "\n",
    "Input: grid = [[9,9,8,1],[5,6,2,6],[8,2,6,4],[6,2,2,2]]\n",
    "Output: [[9,9],[8,6]]\n",
    "Explanation: The diagram above shows the original matrix and the generated matrix.\n",
    "Notice that each value in the generated matrix corresponds to the largest value of a contiguous 3 x 3 matrix in grid.\n",
    "\n",
    "Example 2:\n",
    "\n",
    "Input: grid = [[1,1,1,1,1],[1,1,1,1,1],[1,1,2,1,1],[1,1,1,1,1],[1,1,1,1,1]]\n",
    "Output: [[2,2,2],[2,2,2],[2,2,2]]\n",
    "Explanation: Notice that the 2 is contained within every contiguous 3 x 3 matrix in grid.\n",
    "\n",
    " \n",
    "\n",
    "Constraints:\n",
    "\n",
    "    n == grid.length == grid[i].length\n",
    "    3 <= n <= 100\n",
    "    1 <= grid[i][j] <= 100\n",
    "\n"
   ]
  },
  {
   "cell_type": "markdown",
   "id": "884d4eb1-8b4c-4b4d-b7a9-ec014044ca50",
   "metadata": {},
   "source": [
    "- use 3*3 sudoku techniques to extract blocks\n",
    "- might have to flatten, then find max\n",
    "- range(1, n-1) in both loops"
   ]
  },
  {
   "cell_type": "markdown",
   "id": "753b0fdf-d65e-4a11-93fa-e63e16689cc0",
   "metadata": {},
   "source": [
    "***Solution***."
   ]
  },
  {
   "cell_type": "code",
   "execution_count": 42,
   "id": "b0b0eb23-b542-4eb5-9b5c-e17602c79d47",
   "metadata": {
    "execution": {
     "iopub.execute_input": "2023-05-15T11:09:41.042087Z",
     "iopub.status.busy": "2023-05-15T11:09:41.042087Z",
     "iopub.status.idle": "2023-05-15T11:09:41.055737Z",
     "shell.execute_reply": "2023-05-15T11:09:41.055737Z",
     "shell.execute_reply.started": "2023-05-15T11:09:41.042087Z"
    },
    "tags": []
   },
   "outputs": [
    {
     "name": "stdout",
     "output_type": "stream",
     "text": [
      "[[9, 9, 8], [5, 6, 2], [8, 2, 6]] 9\n",
      "[[9, 8, 1], [6, 2, 6], [2, 6, 4]] 9\n",
      "[[5, 6, 2], [8, 2, 6], [6, 2, 2]] 8\n",
      "[[6, 2, 6], [2, 6, 4], [2, 2, 2]] 6\n"
     ]
    },
    {
     "data": {
      "text/plain": [
       "[[9, 9], [8, 6]]"
      ]
     },
     "execution_count": 42,
     "metadata": {},
     "output_type": "execute_result"
    }
   ],
   "source": [
    "def largestLocal(matrix):\n",
    "    def flatten_matrix(matrix):\n",
    "        answer = []\n",
    "        for i in range(len(matrix)):\n",
    "            for j in range(len(matrix)):\n",
    "                answer.append(matrix[i][j])\n",
    "        return answer\n",
    "    \n",
    "    n = len(matrix)\n",
    "    answer = []\n",
    "    # for i in range(1, 2):\n",
    "    for i in range(1, n-1):\n",
    "        row = []\n",
    "        for j in range(1, n-1):\n",
    "            block = [x[j-1:j+2] for x in matrix][i-1:i+2]\n",
    "            element = max(flatten_matrix(block))\n",
    "            print(block, element)\n",
    "            row.append(element)\n",
    "        answer.append(row)\n",
    "    return answer\n",
    "    \n",
    "matrix = [[9,9,8,1],[5,6,2,6],[8,2,6,4],[6,2,2,2]]\n",
    "largestLocal(matrix)"
   ]
  },
  {
   "cell_type": "code",
   "execution_count": 43,
   "id": "e6f48ddf-11f8-4bc6-bdfa-aeb1b98ffbf0",
   "metadata": {
    "execution": {
     "iopub.execute_input": "2023-05-15T11:09:41.055737Z",
     "iopub.status.busy": "2023-05-15T11:09:41.055737Z",
     "iopub.status.idle": "2023-05-15T11:09:41.072900Z",
     "shell.execute_reply": "2023-05-15T11:09:41.071735Z",
     "shell.execute_reply.started": "2023-05-15T11:09:41.055737Z"
    },
    "tags": []
   },
   "outputs": [
    {
     "name": "stdout",
     "output_type": "stream",
     "text": [
      "[[1, 1, 1], [1, 1, 1], [1, 1, 2]] 2\n",
      "[[1, 1, 1], [1, 1, 1], [1, 2, 1]] 2\n",
      "[[1, 1, 1], [1, 1, 1], [2, 1, 1]] 2\n",
      "[[1, 1, 1], [1, 1, 2], [1, 1, 1]] 2\n",
      "[[1, 1, 1], [1, 2, 1], [1, 1, 1]] 2\n",
      "[[1, 1, 1], [2, 1, 1], [1, 1, 1]] 2\n",
      "[[1, 1, 2], [1, 1, 1], [1, 1, 1]] 2\n",
      "[[1, 2, 1], [1, 1, 1], [1, 1, 1]] 2\n",
      "[[2, 1, 1], [1, 1, 1], [1, 1, 1]] 2\n"
     ]
    },
    {
     "data": {
      "text/plain": [
       "[[2, 2, 2], [2, 2, 2], [2, 2, 2]]"
      ]
     },
     "execution_count": 43,
     "metadata": {},
     "output_type": "execute_result"
    }
   ],
   "source": [
    "matrix = [[1,1,1,1,1],[1,1,1,1,1],[1,1,2,1,1],[1,1,1,1,1],[1,1,1,1,1]]\n",
    "largestLocal(matrix)"
   ]
  },
  {
   "cell_type": "markdown",
   "id": "811de685-8e47-4c58-8a8d-eab5aaaee24f",
   "metadata": {},
   "source": [
    "O(mn) solution:"
   ]
  },
  {
   "cell_type": "code",
   "execution_count": 44,
   "id": "39dff197-8f1a-4f9d-9401-1cf5b7df12c0",
   "metadata": {
    "execution": {
     "iopub.execute_input": "2023-05-15T11:09:41.073913Z",
     "iopub.status.busy": "2023-05-15T11:09:41.073913Z",
     "iopub.status.idle": "2023-05-15T11:09:41.087473Z",
     "shell.execute_reply": "2023-05-15T11:09:41.087473Z",
     "shell.execute_reply.started": "2023-05-15T11:09:41.073913Z"
    },
    "tags": []
   },
   "outputs": [
    {
     "name": "stdout",
     "output_type": "stream",
     "text": [
      "[[0, 0], [0, 3]]\n",
      "[0, 0]\n",
      "[0, 3]\n"
     ]
    },
    {
     "data": {
      "text/plain": [
       "[[0, 0, 0, 0], [0, 4, 5, 0], [0, 3, 1, 0]]"
      ]
     },
     "execution_count": 44,
     "metadata": {},
     "output_type": "execute_result"
    }
   ],
   "source": [
    "def setZeroes(matrix):\n",
    "    m = len(matrix)\n",
    "    n = len(matrix[0])\n",
    "    rows_zeros = [0] * n\n",
    "    columns_zeros = [0] * m\n",
    "    locs_zeros = []\n",
    "    for i in range(m):\n",
    "        for j in range(n):\n",
    "            if matrix[i][j] == 0:\n",
    "                locs_zeros.append([i, j])\n",
    "    print(locs_zeros)\n",
    "    for z in range(len(locs_zeros)):\n",
    "        print(locs_zeros[z])\n",
    "        matrix[locs_zeros[z][0]] = rows_zeros\n",
    "        for i in range(m):\n",
    "            matrix[i][locs_zeros[z][1]] = 0\n",
    "    return matrix\n",
    "    \n",
    "matrix = [[1,1,1],[1,0,1],[1,1,1]]\n",
    "matrix = [[0,1,2,0],[3,4,5,2],[1,3,1,5]]\n",
    "setZeroes(matrix)"
   ]
  },
  {
   "cell_type": "markdown",
   "id": "90e346b9-6069-47f1-8471-4bdfc035f850",
   "metadata": {},
   "source": [
    "O(m+n) solution:"
   ]
  },
  {
   "cell_type": "code",
   "execution_count": 45,
   "id": "29096618-e00c-4886-ab3c-8a2caa895681",
   "metadata": {
    "execution": {
     "iopub.execute_input": "2023-05-15T11:09:41.087473Z",
     "iopub.status.busy": "2023-05-15T11:09:41.087473Z",
     "iopub.status.idle": "2023-05-15T11:09:41.103117Z",
     "shell.execute_reply": "2023-05-15T11:09:41.103117Z",
     "shell.execute_reply.started": "2023-05-15T11:09:41.087473Z"
    },
    "tags": []
   },
   "outputs": [
    {
     "data": {
      "text/plain": [
       "[[0, 0, 0, 0], [0, 4, 5, 0], [0, 3, 1, 0]]"
      ]
     },
     "execution_count": 45,
     "metadata": {},
     "output_type": "execute_result"
    }
   ],
   "source": [
    "def setZeroes(matrix):\n",
    "    m = len(matrix)\n",
    "    n = len(matrix[0])\n",
    "    row_of_zeros = [0] * n\n",
    "    locs_rows = []\n",
    "    locs_columns = []\n",
    "    for i in range(m):\n",
    "        for j in range(n):\n",
    "            if matrix[i][j] == 0:\n",
    "                locs_rows.append(i)\n",
    "                locs_columns.append(j)\n",
    "    for i in range(len(locs_rows)):\n",
    "        matrix[locs_rows[i]] = row_of_zeros\n",
    "    for i in range(len(locs_columns)):\n",
    "        for z in range(m):\n",
    "            matrix[z][locs_columns[i]] = 0\n",
    "    return matrix\n",
    "    \n",
    "matrix = [[1,1,1],[1,0,1],[1,1,1]]\n",
    "matrix = [[0,1,2,0],[3,4,5,2],[1,3,1,5]]\n",
    "setZeroes(matrix)"
   ]
  },
  {
   "cell_type": "markdown",
   "id": "e9fe699f-f2c1-4e1b-ad4e-080f7c19da22",
   "metadata": {},
   "source": [
    "O(1) space solution using a placeholder:"
   ]
  },
  {
   "cell_type": "code",
   "execution_count": 46,
   "id": "09ba50c2-5f5c-4ec3-9ade-3a774cfd21f7",
   "metadata": {
    "execution": {
     "iopub.execute_input": "2023-05-15T11:09:41.103117Z",
     "iopub.status.busy": "2023-05-15T11:09:41.103117Z",
     "iopub.status.idle": "2023-05-15T11:09:41.118734Z",
     "shell.execute_reply": "2023-05-15T11:09:41.118734Z",
     "shell.execute_reply.started": "2023-05-15T11:09:41.103117Z"
    },
    "tags": []
   },
   "outputs": [
    {
     "data": {
      "text/plain": [
       "[[0, 0, 3, 0], [0, 0, 0, 0], [0, 0, 0, 0], [0, 0, 0, 0]]"
      ]
     },
     "execution_count": 46,
     "metadata": {},
     "output_type": "execute_result"
    }
   ],
   "source": [
    "def setZeroes(matrix):\n",
    "    m = len(matrix)\n",
    "    n = len(matrix[0])\n",
    "    row_of_zeros = [0] * n\n",
    "    for i in range(m):\n",
    "        for j in range(n):\n",
    "            if matrix[i][j] == 0:\n",
    "                matrix[i][j] = 'z'\n",
    "    for i in range(m):  \n",
    "        for j in range(n):\n",
    "            if matrix[i][j] == 'z':\n",
    "                for k in range(j+1, n):\n",
    "                    if matrix[i][k] != 'z':\n",
    "                        matrix[i][k] = 0\n",
    "                for k in range(j):\n",
    "                    if matrix[i][k] != 'z':\n",
    "                        matrix[i][k] = 0\n",
    "    for j in range(n):\n",
    "        for i in range(m):\n",
    "            # print(i, j)\n",
    "            if matrix[i][j] == 'z':\n",
    "                # print(i, j)\n",
    "                for k in range(i+1, m):\n",
    "                    if matrix[k][j] != 'z':\n",
    "                        matrix[k][j] = 0\n",
    "                for k in range(i):\n",
    "                    if matrix[k][j] != 'z':\n",
    "                        matrix[k][j] = 0\n",
    "    for i in range(m):\n",
    "        for j in range(n):\n",
    "            if matrix[i][j] == 'z':\n",
    "                matrix[i][j] = 0\n",
    "    return matrix\n",
    "    \n",
    "matrix = [[1,1,1],[1,0,1],[1,1,1]]\n",
    "matrix = [[0,1,2,0],[3,4,5,2],[1,3,1,5]]\n",
    "matrix = [[1,2,3,4],[5,0,7,8],[0,10,11,12],[13,14,15,0]]\n",
    "setZeroes(matrix)"
   ]
  },
  {
   "cell_type": "code",
   "execution_count": null,
   "id": "bf213f69-b0ea-4c57-9e1d-4cdf2ea4b89f",
   "metadata": {},
   "outputs": [],
   "source": []
  },
  {
   "cell_type": "code",
   "execution_count": 47,
   "id": "e0d4bd4f-4332-45ba-982b-fae168f3fea6",
   "metadata": {
    "execution": {
     "iopub.execute_input": "2023-05-15T11:09:41.118734Z",
     "iopub.status.busy": "2023-05-15T11:09:41.118734Z",
     "iopub.status.idle": "2023-05-15T11:09:41.134361Z",
     "shell.execute_reply": "2023-05-15T11:09:41.134361Z",
     "shell.execute_reply.started": "2023-05-15T11:09:41.118734Z"
    },
    "tags": []
   },
   "outputs": [
    {
     "data": {
      "text/plain": [
       "[[0, 0, 0, 0], [0, 4, 5, 0], [0, 3, 1, 0]]"
      ]
     },
     "execution_count": 47,
     "metadata": {},
     "output_type": "execute_result"
    }
   ],
   "source": [
    "matrix = [[0,1,2,0],[3,4,5,2],[1,3,1,5]]\n",
    "setZeroes(matrix)"
   ]
  },
  {
   "cell_type": "code",
   "execution_count": null,
   "id": "bfdaf8b5-454a-4113-956c-bc1b83917617",
   "metadata": {
    "tags": []
   },
   "outputs": [],
   "source": [
    "\n"
   ]
  }
 ],
 "metadata": {
  "kernelspec": {
   "display_name": "Python 3 (ipykernel)",
   "language": "python",
   "name": "python3"
  },
  "language_info": {
   "codemirror_mode": {
    "name": "ipython",
    "version": 3
   },
   "file_extension": ".py",
   "mimetype": "text/x-python",
   "name": "python",
   "nbconvert_exporter": "python",
   "pygments_lexer": "ipython3",
   "version": "3.9.7"
  }
 },
 "nbformat": 4,
 "nbformat_minor": 5
}
